{
 "cells": [
  {
   "cell_type": "code",
   "execution_count": 1,
   "id": "f91fd0b7-bc1f-4946-a3e7-2619bf29f4d8",
   "metadata": {},
   "outputs": [
    {
     "name": "stdout",
     "output_type": "stream",
     "text": [
      "Accuracy: 0.7\n",
      "              precision    recall  f1-score   support\n",
      "\n",
      "           0       0.83      0.59      0.69        17\n",
      "           1       0.61      0.85      0.71        13\n",
      "\n",
      "    accuracy                           0.70        30\n",
      "   macro avg       0.72      0.72      0.70        30\n",
      "weighted avg       0.74      0.70      0.70        30\n",
      "\n"
     ]
    },
    {
     "name": "stdin",
     "output_type": "stream",
     "text": [
      "enter the review good\n"
     ]
    },
    {
     "name": "stdout",
     "output_type": "stream",
     "text": [
      "Review: good\n",
      "Sentiment: positive\n"
     ]
    }
   ],
   "source": [
    "import pandas as pd\n",
    "\n",
    "import random\n",
    "\n",
    "from sklearn.feature_extraction.text import CountVectorizer\n",
    "\n",
    "from sklearn.naive_bayes import MultinomialNB\n",
    "\n",
    "from sklearn.model_selection import train_test_split\n",
    "\n",
    "from sklearn.metrics import accuracy_score, classification_report\n",
    "\n",
    "df = pd.read_csv(r\"E:\\DATA SET.csv\")\n",
    "\n",
    "df['sentiment'] = df['sentiment'].map({'positive': 1, 'negative': 0})\n",
    "\n",
    "df = df.sample(frac=1, random_state=42).reset_index(drop=True)\n",
    "\n",
    "X_train, X_test, y_train, y_test = train_test_split(df['review'], df['sentiment'], test_size=0.3, random_state=42)\n",
    "\n",
    "vectorizer = CountVectorizer(stop_words='english')\n",
    "\n",
    "X_train_counts = vectorizer.fit_transform(X_train)\n",
    "\n",
    "clf = MultinomialNB()\n",
    "\n",
    "clf.fit(X_train_counts, y_train)\n",
    "\n",
    "X_test_counts = vectorizer.transform(X_test)\n",
    "\n",
    "y_pred = clf.predict(X_test_counts)\n",
    "\n",
    "print(f'Accuracy: {accuracy_score(y_test, y_pred)}')\n",
    "\n",
    "print(classification_report(y_test, y_pred))\n",
    "\n",
    "def classify_review(review):\n",
    "\n",
    "    review_counts = vectorizer.transform([review])\n",
    "\n",
    "    return 'positive' if clf.predict(review_counts)[0] == 1 else 'negative'\n",
    "\n",
    "review =input('enter the review')\n",
    "\n",
    "print(f'Review: {review}\\nSentiment: {classify_review(review)}')\n",
    "\n"
   ]
  },
  {
   "cell_type": "code",
   "execution_count": null,
   "id": "abaf22ce-2501-4d06-bfa9-cc3da930586c",
   "metadata": {},
   "outputs": [],
   "source": []
  }
 ],
 "metadata": {
  "kernelspec": {
   "display_name": "Python 3 (ipykernel)",
   "language": "python",
   "name": "python3"
  },
  "language_info": {
   "codemirror_mode": {
    "name": "ipython",
    "version": 3
   },
   "file_extension": ".py",
   "mimetype": "text/x-python",
   "name": "python",
   "nbconvert_exporter": "python",
   "pygments_lexer": "ipython3",
   "version": "3.11.7"
  }
 },
 "nbformat": 4,
 "nbformat_minor": 5
}
